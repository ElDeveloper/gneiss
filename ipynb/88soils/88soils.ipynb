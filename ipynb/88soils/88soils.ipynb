{
 "cells": [
  {
   "cell_type": "markdown",
   "metadata": {},
   "source": [
    "In this study, there were 88 soil samples collected from North and South America.  Each of these soil samples had a pH measurement. From this [paper](http://www.ncbi.nlm.nih.gov/pubmed/19502440), it was observed that pH plays a primary role in community assemblage.  Here, we will show that pH by itself can actually predict the microbial abundances, using balance trees."
   ]
  },
  {
   "cell_type": "code",
   "execution_count": 1,
   "metadata": {
    "collapsed": false
   },
   "outputs": [],
   "source": [
    "import pandas as pd"
   ]
  },
  {
   "cell_type": "code",
   "execution_count": 2,
   "metadata": {
    "collapsed": true
   },
   "outputs": [],
   "source": [
    "!qiime tools import --input-path 238_otu_table.biom \\\n",
    "                    --output-path 88soils.biom.qza \\\n",
    "                    --type FeatureTable[Frequency]"
   ]
  },
  {
   "cell_type": "markdown",
   "metadata": {},
   "source": [
    "Now we will be filtering out OTUs that are lower abundance.  We'll set the threshold to be __100__ reads.\n",
    "This is because there is going to be a lot of garbage OTUs due to contamination, sequencing error, or clustering errors.  We feel that the 100 read filter is conservative enough to demonstrate the utility of this tool.  Of course, this threshold depends on the dataset, and we suggest tinkering around with this threshold.\n",
    "\n",
    "Samples and OTUS with fewer than 100 reads can be filtered as follows."
   ]
  },
  {
   "cell_type": "code",
   "execution_count": 3,
   "metadata": {
    "collapsed": false
   },
   "outputs": [
    {
     "name": "stdout",
     "output_type": "stream",
     "text": [
      "\u001b[32mSaved FeatureTable[Frequency] to: 88soils_filt100.biom.qza\u001b[0m\r\n"
     ]
    }
   ],
   "source": [
    "!qiime feature-table filter-features \\\n",
    "                    --i-table 88soils.biom.qza \\\n",
    "                    --o-filtered-table 88soils_filt100.biom.qza \\\n",
    "                    --p-min-frequency 100"
   ]
  },
  {
   "cell_type": "markdown",
   "metadata": {},
   "source": [
    "Now we will build a tree based on the pH values, since in previous work it was observed that pH was the major driving\n",
    "factor behind the community dissimilarity."
   ]
  },
  {
   "cell_type": "code",
   "execution_count": 4,
   "metadata": {
    "collapsed": false,
    "scrolled": false
   },
   "outputs": [
    {
     "name": "stdout",
     "output_type": "stream",
     "text": [
      "\u001b[32mSaved Phylogeny[Rooted] to: ph_tree.nwk.qza\u001b[0m\r\n"
     ]
    }
   ],
   "source": [
    "!qiime gneiss gradient-clustering \\\n",
    "                    --i-table 88soils_filt100.biom.qza \\\n",
    "                    --m-gradient-file 88soils_metadata.txt \\\n",
    "                    --m-gradient-category ph \\\n",
    "                    --o-clustering ph_tree.nwk.qza \\\n",
    "                    --p-no-weighted"
   ]
  },
  {
   "cell_type": "markdown",
   "metadata": {},
   "source": [
    "The tree will give us information about how the OTUs partition.  In this case, the tree groups together organisms that\n",
    "live in similar pH environments.  To get a better idea about how these organisms, let's visualize these partitions on a heatmap.  To this let's first categorize the samples by their measured pH."
   ]
  },
  {
   "cell_type": "markdown",
   "metadata": {},
   "source": [
    "Before running the regression, we have to account for zero abundances.  Due the nature of zeros, we cannot be certain if the zeros arose from undersampling, or the complete absence of an OTU.  To this extent, we'll add a pseudocount of 1 to approximate the uncertainity probability.  We'll also want this for visualizing the heatmaps, since we'll be doing some log scaling."
   ]
  },
  {
   "cell_type": "code",
   "execution_count": 5,
   "metadata": {
    "collapsed": false
   },
   "outputs": [
    {
     "name": "stdout",
     "output_type": "stream",
     "text": [
      "\u001b[32mSaved FeatureTable[Composition] to: 88soils_composition.biom.qza\u001b[0m\r\n"
     ]
    }
   ],
   "source": [
    "!qiime composition add-pseudocount \\\n",
    "                    --i-table 88soils_filt100.biom.qza \\\n",
    "                    --p-pseudocount 1 \\\n",
    "                    --o-composition-table 88soils_composition.biom.qza"
   ]
  },
  {
   "cell_type": "markdown",
   "metadata": {},
   "source": [
    "Now we can generate a heatmap using these discretized pH values."
   ]
  },
  {
   "cell_type": "code",
   "execution_count": 6,
   "metadata": {
    "collapsed": true
   },
   "outputs": [],
   "source": [
    "mapping = pd.read_table('88soils_metadata.txt', index_col=0)\n",
    "mapping['ph_rounded'] = mapping.ph.apply(int)\n",
    "mapping.to_csv('88soils_rounded_metadata.txt', sep='\\t')"
   ]
  },
  {
   "cell_type": "code",
   "execution_count": 7,
   "metadata": {
    "collapsed": false
   },
   "outputs": [
    {
     "name": "stdout",
     "output_type": "stream",
     "text": [
      "\u001b[32mSaved Visualization to: ph_heatmap.qzv\u001b[0m\r\n"
     ]
    }
   ],
   "source": [
    "!qiime gneiss dendrogram-heatmap \\\n",
    "                    --i-table 88soils_composition.biom.qza \\\n",
    "                    --i-tree ph_tree.nwk.qza \\\n",
    "                    --m-metadata-file 88soils_rounded_metadata.txt \\\n",
    "                    --m-metadata-category \"ph_rounded\" \\\n",
    "                    --o-visualization \"ph_heatmap\" \\\n",
    "                    --p-ndim 10 --verbose"
   ]
  },
  {
   "cell_type": "markdown",
   "metadata": {},
   "source": [
    "Based on this, we can observe that there are clear cut clustering patterns of organisms with respect to pH.  \n",
    "We would like to run statistical tests that can determine how strong the correlation between the partitions and the pH is.  Thats where balances can help us.   To do this, we will calculate balances and perform an ordinary least squares regression on the transformed data.  \n",
    "\n",
    "We'll want to fit a quartic linear model to each of the balances individually with respect to pH.\n",
    "This model was chosen, because in the original paper, there was a horseshoe shape observed. So, it would make sense to use a parabolic function to fit each balance. Empirically, we found that a 4th degree polynomial gave the best results.\n",
    "\n",
    "For now, we'll define 3 more variables encoding different powers of pH as follows."
   ]
  },
  {
   "cell_type": "code",
   "execution_count": 8,
   "metadata": {
    "collapsed": false
   },
   "outputs": [],
   "source": [
    "mapping = pd.read_table('88soils_metadata.txt', index_col=0)\n",
    "mapping['ph2'] = mapping.ph ** 2\n",
    "mapping['ph3'] = mapping.ph ** 3\n",
    "mapping['ph4'] = mapping.ph ** 4\n",
    "mapping.to_csv('88soils_modified_metadata.txt', sep='\\t')"
   ]
  },
  {
   "cell_type": "markdown",
   "metadata": {},
   "source": [
    "Now we can run the linear regression using ordinary least squares regression. All of the covariates (i.e. `ph`, `ph2`, `ph3`, `ph4`) can be encoded in the regression model.  Note that there is no dependent variable defined, since this regression is run individually against all of the balances specified by `otu_table` and `ph_tree`.  \n"
   ]
  },
  {
   "cell_type": "code",
   "execution_count": 9,
   "metadata": {
    "collapsed": false
   },
   "outputs": [
    {
     "name": "stdout",
     "output_type": "stream",
     "text": [
      "\u001b[32mSaved LinearRegression_g to: 88soils_regression_model.qza\u001b[0m\r\n"
     ]
    }
   ],
   "source": [
    "!qiime gneiss ols-regression \\\n",
    "                    --p-formula \"ph + ph2 + ph3 + ph4\" \\\n",
    "                    --i-table 88soils_composition.biom.qza \\\n",
    "                    --i-tree ph_tree.nwk.qza \\\n",
    "                    --m-metadata-file 88soils_modified_metadata.txt \\\n",
    "                    --o-linear-model 88soils_regression_model.qza"
   ]
  },
  {
   "cell_type": "markdown",
   "metadata": {},
   "source": [
    "To determine how good the fit is, we'll want to obtain some summary statistics.\n",
    "\n",
    "Specifically, we would like to determine the coefficient of determination and prediction accuracy.\n",
    "In addition, we would like to see how explanatory the coefficients are."
   ]
  },
  {
   "cell_type": "code",
   "execution_count": 10,
   "metadata": {
    "collapsed": false
   },
   "outputs": [
    {
     "name": "stdout",
     "output_type": "stream",
     "text": [
      "\u001b[32mSaved Visualization to: 88soils_summary.qzv\u001b[0m\r\n"
     ]
    }
   ],
   "source": [
    "!qiime gneiss ols-summary \\\n",
    "                    --i-model 88soils_regression_model.qza \\\n",
    "                    --o-visualization 88soils_summary"
   ]
  },
  {
   "cell_type": "markdown",
   "metadata": {},
   "source": [
    "These summary results can be directly visualized in qiime2.  Checkout [view.qiime2.org](view.qiime2.org) and try to upload your qzv file there. \n",
    "\n",
    "\n",
    "Based on the results that we have obtained above, it would be nice to dig in a little further to \n",
    "actually determine the microbes present in each of the balances.  To do this, we'll need to get a little more familiar with the Qiime2 Artifact API.  To access the underlying data within Qiime2 Artifacts, we'll need to load them into memory, and convert the contents into more familiar Python objects."
   ]
  },
  {
   "cell_type": "code",
   "execution_count": 11,
   "metadata": {
    "collapsed": false
   },
   "outputs": [],
   "source": [
    "import qiime2\n",
    "from skbio import TreeNode\n",
    "from gneiss.regression import OLSModel\n",
    "# Load the artifacts\n",
    "model = qiime2.Artifact.load('88soils_regression_model.qza')\n",
    "table = qiime2.Artifact.load('88soils_filt100.biom.qza')\n",
    "# View the artifacts as more familiar objects\n",
    "ols_model = model.view(OLSModel)\n",
    "otu_table = table.view(pd.DataFrame)"
   ]
  },
  {
   "cell_type": "markdown",
   "metadata": {},
   "source": [
    "Now we would like to determine which microbes belong to the first balance, and how that first balance changes with respect to ph.  To get the first balance, we can retreive that directly from the regression model object."
   ]
  },
  {
   "cell_type": "code",
   "execution_count": 12,
   "metadata": {
    "collapsed": false
   },
   "outputs": [
    {
     "data": {
      "text/plain": [
       "<matplotlib.text.Text at 0x115689d30>"
      ]
     },
     "execution_count": 12,
     "metadata": {},
     "output_type": "execute_result"
    },
    {
     "data": {
      "image/png": "[encoded data removed]",
      "text/plain": [
       "<matplotlib.figure.Figure at 0x11566e400>"
      ]
     },
     "metadata": {},
     "output_type": "display_data"
    }
   ],
   "source": [
    "import matplotlib.pyplot as plt\n",
    "from gneiss.util import match\n",
    "%matplotlib inline\n",
    "top_balance = ols_model.balances.iloc[:, 0]\n",
    "top_balance, ph = match(top_balance, mapping.ph)\n",
    "plt.scatter(ph, top_balance)\n",
    "plt.xlabel('ph')\n",
    "plt.ylabel('Top Balance')"
   ]
  },
  {
   "cell_type": "markdown",
   "metadata": {},
   "source": [
    "Now we'll want to see how good of a prediction the regression can perform.\n",
    "We'll visualize the raw heatmap next to the predicted heatmap.  The rows and columns will be sorted using the pH information.  We'll be using the function [`niche_sort`](https://github.com/biocore/gneiss/blob/master/gneiss/sort.py#L67) to handle this."
   ]
  },
  {
   "cell_type": "code",
   "execution_count": 13,
   "metadata": {
    "collapsed": false
   },
   "outputs": [],
   "source": [
    "from gneiss.sort import niche_sort\n",
    "observed_table = niche_sort(otu_table, mapping.ph)"
   ]
  },
  {
   "cell_type": "markdown",
   "metadata": {},
   "source": [
    "For comparison, we'll want to visualize the predicted microbial proportions.  Note the `project=True` parameter allows \n",
    "the predictions to be returned as proportions, rather than as balances."
   ]
  },
  {
   "cell_type": "code",
   "execution_count": null,
   "metadata": {
    "collapsed": false
   },
   "outputs": [],
   "source": [
    "predicted_table = ols_model.predict(project=True)\n",
    "predicted_table = predicted_table.reindex(index=observed_table.index, \n",
    "                                          columns=observed_table.columns)"
   ]
  },
  {
   "cell_type": "markdown",
   "metadata": {},
   "source": [
    "We'll plot the observed OTU counts, and the predicted OTU proportions side by side.  "
   ]
  },
  {
   "cell_type": "code",
   "execution_count": null,
   "metadata": {
    "collapsed": false
   },
   "outputs": [],
   "source": [
    "from skbio.stats.composition import closure\n",
    "import seaborn as sns\n",
    "fig, (ax1, ax2) = plt.subplots(ncols=2, nrows=1, figsize=(15, 5))\n",
    "sns.heatmap(closure(observed_table.T), robust=True, ax=ax1, cmap='Reds')\n",
    "sns.heatmap(predicted_table.T, robust=True, ax=ax2, cmap='Reds')\n",
    "ax1.set_title('Observed proportions')\n",
    "ax1.set_xticks([])\n",
    "ax1.set_yticks([])\n",
    "ax2.set_xticks([])\n",
    "ax2.set_yticks([])\n",
    "ax1.set_xlabel('Samples')\n",
    "ax1.set_ylabel('OTUs')\n",
    "ax2.set_title('Predicted proportions')\n",
    "ax2.set_xlabel('Samples')\n",
    "ax2.set_ylabel('OTUs')"
   ]
  },
  {
   "cell_type": "markdown",
   "metadata": {},
   "source": [
    "From this, it is clear that the linear regression on balances can capture the overall trends of OTUs vs pH. \n",
    "Ecologically, this makes sense.  Bacteria tend to prefer to live in specific ranges of pH.  So it isn't entirely surprising that microbial abundances can be predicted from pH.  At the same time, the pattern was not obviously apparent until linear regressions on balances were applied.\n",
    "\n",
    "In short, applying linear regressions to balances are useful for studying gradients.  "
   ]
  }
 ],
 "metadata": {
  "kernelspec": {
   "display_name": "Python 3",
   "language": "python",
   "name": "python3"
  },
  "language_info": {
   "codemirror_mode": {
    "name": "ipython",
    "version": 3
   },
   "file_extension": ".py",
   "mimetype": "text/x-python",
   "name": "python",
   "nbconvert_exporter": "python",
   "pygments_lexer": "ipython3",
   "version": "3.5.2"
  }
 },
 "nbformat": 4,
 "nbformat_minor": 0
}
