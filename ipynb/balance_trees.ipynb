{
 "cells": [
  {
   "cell_type": "markdown",
   "metadata": {},
   "source": [
    "# __Balance Trees__"
   ]
  },
  {
   "cell_type": "markdown",
   "metadata": {},
   "source": [
    "\n",
    "\n",
    "We will introduce the concept of balances here.  Balances were originally introduced in the geological sciences with the introduction of the isometric log ratio (ilr) transform.  Here we will refer to the visualizations representing balances as Balance Trees.\n",
    "\n",
    "Balances are an alternative way to interpret relative abundance information, without worrying about dependency properties between features inherient in multinomial distributions.  Often times, we cannot count all of the individuals within a community, and we are stuck analyzing representative samples.  If we have a community of 2 species, we can visualize the ratio or *balance* between these two species.  Below is a more intuitive explanation of a balance.\n",
    "\n",
    "<img src=\"images/Slide1.jpg\">\n",
    "\n",
    "Here we have two species, Red and Green that have equal counts.  The balance is taken as the log ratio between them.  In our convention, we will always take the ratio of the left species over the right species.  So in this case the balance is calculated as:\n",
    "\n",
    "$$\\log \\frac{Red}{Green} = \\log \\frac{5}{5} = \\log 1 = 0$$\n",
    "\n",
    "If the number of red individuals outnumber the number of green individuals 5 to 1, you'll end up with a positive balance of:\n",
    "\n",
    "$$\\log \\frac{Red}{Green} = \\log \\frac{5}{1} = \\log 5$$\n",
    "\n",
    "<img src=\"images/Slide2.jpg\">\n",
    "\n",
    "Likewise, if the number of green individuals outnumber the number of red individuals 5 to 1, you'll end up with a negative balance of\n",
    "\n",
    "$$\\log \\frac{Red}{Green} = \\log \\frac{1}{5} = - \\log 5$$\n",
    "\n",
    "<img src=\"images/Slide3.jpg\">\n",
    "\n",
    "Now, this scheme of balances can be generalized to any arbituary bifurcating trees.  But rather than comparing species abundances, we would be comparing mean log abundances of entire subtrees.  We'll refer to the concept of visualizing balances on bifurcating trees as __Balance Trees__. This concept has come under several names, such as sequential binary partitions, or CoDa dendrograms in the geological sciences.\n",
    "\n",
    "Below is how we would make this calculation on a tree with 4 leaves.\n",
    "\n",
    "<img src=\"images/Slide4.jpg\">\n",
    "\n",
    "The full equation on how to estimate balances is as follows\n",
    "$$\n",
    "b_i = \\sqrt{\\frac{l_i r_i}{l_i + r_i}} \n",
    " \\log \\big( \\frac{(\\prod_{x_n \\in L}{x_n})^{1/l_i}}\n",
    " {(\\prod_{x_m \\in R}{x_m})^{1/r_i}} \\big)\n",
    "$$\n",
    "\n",
    "where $b_i$ is the $i$th balance, $l_i$ is the number of leaves in the left subtree, $r_i$ is the number of leaves in the right subtree  $x_n$ are the abundances of the species in the left subtree, and $x_m$ are the abundances of species in the right subtree.\n"
   ]
  },
  {
   "cell_type": "code",
   "execution_count": 1,
   "metadata": {
    "collapsed": false
   },
   "outputs": [],
   "source": [
    "from __future__ import division\n",
    "import numpy as np\n",
    "import pandas as pd\n",
    "from skbio.stats.composition import ilr\n",
    "from skbio import TreeNode\n",
    "from gneiss.balances import balanceplot, balance_basis\n",
    "from gneiss.layouts import barchart_layout\n",
    "import scipy\n",
    "from functools import partial\n",
    "from ete3 import Tree, TreeStyle, faces, AttrFace, BarChartFace, CircleFace\n",
    "%matplotlib inline"
   ]
  },
  {
   "cell_type": "markdown",
   "metadata": {},
   "source": [
    "To illustrate how to use these modules, consider the following tree"
   ]
  },
  {
   "cell_type": "code",
   "execution_count": 2,
   "metadata": {
    "collapsed": false
   },
   "outputs": [
    {
     "name": "stdout",
     "output_type": "stream",
     "text": [
      "                    /-a\n",
      "          /e-------|\n",
      "         |          \\-b\n",
      "-r-------|\n",
      "         |          /-c\n",
      "          \\f-------|\n",
      "                    \\-d\n"
     ]
    }
   ],
   "source": [
    "tree = TreeNode.read([u\"((a,b)e, (c,d)f)r;\"])\n",
    "print(tree.ascii_art())"
   ]
  },
  {
   "cell_type": "markdown",
   "metadata": {},
   "source": [
    "And consider the following abundances for the given sample"
   ]
  },
  {
   "cell_type": "code",
   "execution_count": 3,
   "metadata": {
    "collapsed": false
   },
   "outputs": [],
   "source": [
    "table = pd.Series([10, 20, 10, 10],\n",
    "                  index=['a','b','c','d'])"
   ]
  },
  {
   "cell_type": "markdown",
   "metadata": {},
   "source": [
    "Given this data, we can visualize the ratios between the abundances according to this tree.\n",
    "Here, we will be visualizing the log ratios between b/a, d/c and f/e\n"
   ]
  },
  {
   "cell_type": "code",
   "execution_count": 4,
   "metadata": {
    "collapsed": true
   },
   "outputs": [],
   "source": [
    "basis, nodes = balance_basis(tree)\n",
    "ilr_coords = ilr(table, basis=basis)"
   ]
  },
  {
   "cell_type": "markdown",
   "metadata": {},
   "source": [
    "Now, we can visualize these log ratios as balances on the tree.  Since the c, d have the same abundances, their ratio is 1, and their log ratio is zero. So that balance on the c,d subtree is zero.\n",
    "\n",
    "On the other hand, the abundance of b is double the abundance of a.  So the ratio of b/a is 2, making the log ratio log(2). \n",
    "\n",
    "The logratios of subtrees can be visualized as balances on the tree as shown below.  In this scenario, the left subtree is on the bottom, and the right subtree is on the top."
   ]
  },
  {
   "cell_type": "code",
   "execution_count": 5,
   "metadata": {
    "collapsed": false
   },
   "outputs": [
    {
     "data": {
      "image/png": "[encoded data removed]",
      "text/plain": [
       "<IPython.core.display.Image object>"
      ]
     },
     "execution_count": 5,
     "metadata": {},
     "output_type": "execute_result"
    }
   ],
   "source": [
    "tr, ts = balanceplot(ilr_coords, tree, mode='r', layout=barchart_layout) \n",
    "ts.branch_vertical_margin = 20  # adjust the spacing between leaves.\n",
    "tr.render(file_name='%%inline', tree_style=ts)"
   ]
  },
  {
   "cell_type": "markdown",
   "metadata": {},
   "source": [
    "The cool thing about these sorts of plots is statistical tests can be run on the directly on the balances.  \n",
    "\n",
    "For example, below, we have a table of 6 samples $s1$, $s2$, $s3$, $s4$, $s5$, $s6$ and 7 features $a$, $b$, $d$, $f$, $h$, $j$, $l$, which are related with a given tree.  Suppose that samples $s1$, $s2$, $s3$ are within a control group, and samples $s4$, $s5$, $s6$ are within a treatment group.  We would like to see if there is a difference between the sample and treatment groups. \n",
    "We can do this by running ANOVAs on each balance, and visualize the p-values on each internal node.  "
   ]
  },
  {
   "cell_type": "code",
   "execution_count": 6,
   "metadata": {
    "collapsed": false
   },
   "outputs": [
    {
     "data": {
      "text/html": [
       "<div>\n",
       "<table border=\"1\" class=\"dataframe\">\n",
       "  <thead>\n",
       "    <tr style=\"text-align: right;\">\n",
       "      <th></th>\n",
       "      <th>a</th>\n",
       "      <th>b</th>\n",
       "      <th>d</th>\n",
       "      <th>f</th>\n",
       "      <th>h</th>\n",
       "      <th>j</th>\n",
       "      <th>l</th>\n",
       "    </tr>\n",
       "  </thead>\n",
       "  <tbody>\n",
       "    <tr>\n",
       "      <th>s1</th>\n",
       "      <td>10</td>\n",
       "      <td>11</td>\n",
       "      <td>10</td>\n",
       "      <td>10</td>\n",
       "      <td>10</td>\n",
       "      <td>10</td>\n",
       "      <td>10</td>\n",
       "    </tr>\n",
       "    <tr>\n",
       "      <th>s2</th>\n",
       "      <td>10</td>\n",
       "      <td>12</td>\n",
       "      <td>11</td>\n",
       "      <td>11</td>\n",
       "      <td>11</td>\n",
       "      <td>11</td>\n",
       "      <td>13</td>\n",
       "    </tr>\n",
       "    <tr>\n",
       "      <th>s3</th>\n",
       "      <td>11</td>\n",
       "      <td>11</td>\n",
       "      <td>10</td>\n",
       "      <td>10</td>\n",
       "      <td>10</td>\n",
       "      <td>10</td>\n",
       "      <td>10</td>\n",
       "    </tr>\n",
       "    <tr>\n",
       "      <th>s4</th>\n",
       "      <td>20</td>\n",
       "      <td>21</td>\n",
       "      <td>10</td>\n",
       "      <td>10</td>\n",
       "      <td>10</td>\n",
       "      <td>10</td>\n",
       "      <td>10</td>\n",
       "    </tr>\n",
       "    <tr>\n",
       "      <th>s5</th>\n",
       "      <td>20</td>\n",
       "      <td>21</td>\n",
       "      <td>10</td>\n",
       "      <td>10</td>\n",
       "      <td>10</td>\n",
       "      <td>10</td>\n",
       "      <td>10</td>\n",
       "    </tr>\n",
       "    <tr>\n",
       "      <th>s6</th>\n",
       "      <td>21</td>\n",
       "      <td>21</td>\n",
       "      <td>10</td>\n",
       "      <td>9</td>\n",
       "      <td>10</td>\n",
       "      <td>11</td>\n",
       "      <td>12</td>\n",
       "    </tr>\n",
       "  </tbody>\n",
       "</table>\n",
       "</div>"
      ],
      "text/plain": [
       "     a   b   d   f   h   j   l\n",
       "s1  10  11  10  10  10  10  10\n",
       "s2  10  12  11  11  11  11  13\n",
       "s3  11  11  10  10  10  10  10\n",
       "s4  20  21  10  10  10  10  10\n",
       "s5  20  21  10  10  10  10  10\n",
       "s6  21  21  10   9  10  11  12"
      ]
     },
     "execution_count": 6,
     "metadata": {},
     "output_type": "execute_result"
    }
   ],
   "source": [
    "table = pd.DataFrame([\n",
    "            [10, 11, 10, 10, 10, 10, 10],\n",
    "            [10, 12, 11, 11, 11, 11, 13],\n",
    "            [11, 11, 10, 10, 10, 10, 10],\n",
    "            [20, 21, 10, 10, 10, 10, 10],\n",
    "            [20, 21, 10, 10, 10, 10, 10],\n",
    "            [21, 21, 10, 9,  10, 11, 12]],\n",
    "            index=['s1', 's2', 's3', 's4', 's5', 's6'],\n",
    "            columns=['a', 'b', 'd', 'f', 'h', 'j', 'l'])\n",
    "cats = pd.Series(['Control', 'Control', 'Control', \n",
    "                  'Treatment', 'Treatment', 'Treatment'],\n",
    "                index=['s1', 's2', 's3', 's4', 's5', 's6'])\n",
    "tree = TreeNode.read([u\"((((a,b)5, (f, d)6)3, (h, j)4)2, l)1;\"])\n",
    "table"
   ]
  },
  {
   "cell_type": "markdown",
   "metadata": {},
   "source": [
    "The tree is structure as shown below."
   ]
  },
  {
   "cell_type": "code",
   "execution_count": 7,
   "metadata": {
    "collapsed": false
   },
   "outputs": [
    {
     "name": "stdout",
     "output_type": "stream",
     "text": [
      "                                        /-a\n",
      "                              /5-------|\n",
      "                             |          \\-b\n",
      "                    /3-------|\n",
      "                   |         |          /-f\n",
      "                   |          \\6-------|\n",
      "          /2-------|                    \\-d\n",
      "         |         |\n",
      "         |         |          /-h\n",
      "-1-------|          \\4-------|\n",
      "         |                    \\-j\n",
      "         |\n",
      "          \\-l\n"
     ]
    }
   ],
   "source": [
    "print(tree.ascii_art())"
   ]
  },
  {
   "cell_type": "markdown",
   "metadata": {},
   "source": [
    "As before, we can transform these abundances into log ratios as follows"
   ]
  },
  {
   "cell_type": "code",
   "execution_count": 8,
   "metadata": {
    "collapsed": true
   },
   "outputs": [],
   "source": [
    "basis, nodes = balance_basis(tree)\n",
    "balances = ilr(table.values, basis=basis)"
   ]
  },
  {
   "cell_type": "markdown",
   "metadata": {},
   "source": [
    "And we can calculate ANOVAs on each balance, by splitting up the balances by the control and treatment groups."
   ]
  },
  {
   "cell_type": "code",
   "execution_count": 9,
   "metadata": {
    "collapsed": false
   },
   "outputs": [],
   "source": [
    "pvalues = []\n",
    "for b in range(balances.shape[1]):\n",
    "    groups = [balances[(cats == x).values, b] for x in set(cats)]\n",
    "    f, p = scipy.stats.f_oneway(*groups)\n",
    "    pvalues.append(-np.log(p))"
   ]
  },
  {
   "cell_type": "markdown",
   "metadata": {},
   "source": [
    "And now we can plot the balances on the tree.  As expected, the only difference is in the balance with a,b vs f,d.\n",
    "The effect of that balance diminishes on higher levels of the tree."
   ]
  },
  {
   "cell_type": "code",
   "execution_count": 10,
   "metadata": {
    "collapsed": false
   },
   "outputs": [
    {
     "data": {
      "image/png": "[encoded data removed]",
      "text/plain": [
       "<IPython.core.display.Image object>"
      ]
     },
     "execution_count": 10,
     "metadata": {},
     "output_type": "execute_result"
    }
   ],
   "source": [
    "tr, ts = balanceplot(pvalues, tree, mode='r') \n",
    "tr.render(file_name='%%inline', tree_style=ts)"
   ]
  },
  {
   "cell_type": "markdown",
   "metadata": {},
   "source": [
    "There is one thing to be wary about when using this module.  Since each balance is being calculated using log ratios,\n",
    "there can be no zeros in the original table.  This means that the zeros will need to be removed.  One approach is to add pseudocounts to\n",
    "all of the values.  The most common pseudocount to add is *1*.  There are many other approaches such as collapsing leaves.\n",
    "\n",
    "In conclusion, balance trees can be alternative, yet powerful approach at analyzing the community structure of a population."
   ]
  },
  {
   "cell_type": "code",
   "execution_count": null,
   "metadata": {
    "collapsed": true
   },
   "outputs": [],
   "source": []
  }
 ],
 "metadata": {
  "kernelspec": {
   "display_name": "Python 3",
   "language": "python",
   "name": "python3"
  },
  "language_info": {
   "codemirror_mode": {
    "name": "ipython",
    "version": 3
   },
   "file_extension": ".py",
   "mimetype": "text/x-python",
   "name": "python",
   "nbconvert_exporter": "python",
   "pygments_lexer": "ipython3",
   "version": "3.5.2"
  }
 },
 "nbformat": 4,
 "nbformat_minor": 0
}
